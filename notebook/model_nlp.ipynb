{
 "cells": [
  {
   "cell_type": "code",
   "execution_count": 4,
   "id": "8f2914eb-7ab0-41ea-86a2-df612b72eeb9",
   "metadata": {},
   "outputs": [],
   "source": [
    "import numpy as np\n",
    "import pandas as pd\n",
    "import nltk\n",
    "from nltk.corpus import stopwords\n",
    "from nltk.tokenize import word_tokenize\n",
    "from nltk.stem import WordNetLemmatizer\n",
    "from sklearn.feature_extraction.text import CountVectorizer\n",
    "from sklearn.model_selection import train_test_split\n",
    "from sklearn.naive_bayes import MultinomialNB\n",
    "from sklearn.metrics import classification_report"
   ]
  },
  {
   "cell_type": "code",
   "execution_count": 5,
   "id": "995729ff-ab45-4b02-a2df-762a5061fdd9",
   "metadata": {},
   "outputs": [
    {
     "name": "stderr",
     "output_type": "stream",
     "text": [
      "[nltk_data] Downloading package punkt to\n",
      "[nltk_data]     C:\\Users\\rafae\\AppData\\Roaming\\nltk_data...\n",
      "[nltk_data]   Package punkt is already up-to-date!\n",
      "[nltk_data] Downloading package stopwords to\n",
      "[nltk_data]     C:\\Users\\rafae\\AppData\\Roaming\\nltk_data...\n",
      "[nltk_data]   Package stopwords is already up-to-date!\n",
      "[nltk_data] Downloading package wordnet to\n",
      "[nltk_data]     C:\\Users\\rafae\\AppData\\Roaming\\nltk_data...\n",
      "[nltk_data]   Package wordnet is already up-to-date!\n"
     ]
    },
    {
     "data": {
      "text/plain": [
       "True"
      ]
     },
     "execution_count": 5,
     "metadata": {},
     "output_type": "execute_result"
    }
   ],
   "source": [
    "nltk.download('punkt')\n",
    "nltk.download('stopwords')\n",
    "nltk.download('wordnet')"
   ]
  },
  {
   "cell_type": "code",
   "execution_count": 6,
   "id": "a20b6446-57b4-424e-8a4f-86cc82e38f6c",
   "metadata": {},
   "outputs": [
    {
     "data": {
      "text/html": [
       "<div>\n",
       "<style scoped>\n",
       "    .dataframe tbody tr th:only-of-type {\n",
       "        vertical-align: middle;\n",
       "    }\n",
       "\n",
       "    .dataframe tbody tr th {\n",
       "        vertical-align: top;\n",
       "    }\n",
       "\n",
       "    .dataframe thead th {\n",
       "        text-align: right;\n",
       "    }\n",
       "</style>\n",
       "<table border=\"1\" class=\"dataframe\">\n",
       "  <thead>\n",
       "    <tr style=\"text-align: right;\">\n",
       "      <th></th>\n",
       "      <th>textID</th>\n",
       "      <th>text</th>\n",
       "      <th>selected_text</th>\n",
       "      <th>sentiment</th>\n",
       "    </tr>\n",
       "  </thead>\n",
       "  <tbody>\n",
       "    <tr>\n",
       "      <th>0</th>\n",
       "      <td>cb774db0d1</td>\n",
       "      <td>I`d have responded, if I were going</td>\n",
       "      <td>I`d have responded, if I were going</td>\n",
       "      <td>neutral</td>\n",
       "    </tr>\n",
       "    <tr>\n",
       "      <th>1</th>\n",
       "      <td>549e992a42</td>\n",
       "      <td>Sooo SAD I will miss you here in San Diego!!!</td>\n",
       "      <td>Sooo SAD</td>\n",
       "      <td>negative</td>\n",
       "    </tr>\n",
       "    <tr>\n",
       "      <th>2</th>\n",
       "      <td>088c60f138</td>\n",
       "      <td>my boss is bullying me...</td>\n",
       "      <td>bullying me</td>\n",
       "      <td>negative</td>\n",
       "    </tr>\n",
       "    <tr>\n",
       "      <th>3</th>\n",
       "      <td>9642c003ef</td>\n",
       "      <td>what interview! leave me alone</td>\n",
       "      <td>leave me alone</td>\n",
       "      <td>negative</td>\n",
       "    </tr>\n",
       "    <tr>\n",
       "      <th>4</th>\n",
       "      <td>358bd9e861</td>\n",
       "      <td>Sons of ****, why couldn`t they put them on t...</td>\n",
       "      <td>Sons of ****,</td>\n",
       "      <td>negative</td>\n",
       "    </tr>\n",
       "    <tr>\n",
       "      <th>...</th>\n",
       "      <td>...</td>\n",
       "      <td>...</td>\n",
       "      <td>...</td>\n",
       "      <td>...</td>\n",
       "    </tr>\n",
       "    <tr>\n",
       "      <th>27476</th>\n",
       "      <td>4eac33d1c0</td>\n",
       "      <td>wish we could come see u on Denver  husband l...</td>\n",
       "      <td>d lost</td>\n",
       "      <td>negative</td>\n",
       "    </tr>\n",
       "    <tr>\n",
       "      <th>27477</th>\n",
       "      <td>4f4c4fc327</td>\n",
       "      <td>I`ve wondered about rake to.  The client has ...</td>\n",
       "      <td>, don`t force</td>\n",
       "      <td>negative</td>\n",
       "    </tr>\n",
       "    <tr>\n",
       "      <th>27478</th>\n",
       "      <td>f67aae2310</td>\n",
       "      <td>Yay good for both of you. Enjoy the break - y...</td>\n",
       "      <td>Yay good for both of you.</td>\n",
       "      <td>positive</td>\n",
       "    </tr>\n",
       "    <tr>\n",
       "      <th>27479</th>\n",
       "      <td>ed167662a5</td>\n",
       "      <td>But it was worth it  ****.</td>\n",
       "      <td>But it was worth it  ****.</td>\n",
       "      <td>positive</td>\n",
       "    </tr>\n",
       "    <tr>\n",
       "      <th>27480</th>\n",
       "      <td>6f7127d9d7</td>\n",
       "      <td>All this flirting going on - The ATG smiles...</td>\n",
       "      <td>All this flirting going on - The ATG smiles. Y...</td>\n",
       "      <td>neutral</td>\n",
       "    </tr>\n",
       "  </tbody>\n",
       "</table>\n",
       "<p>27481 rows × 4 columns</p>\n",
       "</div>"
      ],
      "text/plain": [
       "           textID                                               text  \\\n",
       "0      cb774db0d1                I`d have responded, if I were going   \n",
       "1      549e992a42      Sooo SAD I will miss you here in San Diego!!!   \n",
       "2      088c60f138                          my boss is bullying me...   \n",
       "3      9642c003ef                     what interview! leave me alone   \n",
       "4      358bd9e861   Sons of ****, why couldn`t they put them on t...   \n",
       "...           ...                                                ...   \n",
       "27476  4eac33d1c0   wish we could come see u on Denver  husband l...   \n",
       "27477  4f4c4fc327   I`ve wondered about rake to.  The client has ...   \n",
       "27478  f67aae2310   Yay good for both of you. Enjoy the break - y...   \n",
       "27479  ed167662a5                         But it was worth it  ****.   \n",
       "27480  6f7127d9d7     All this flirting going on - The ATG smiles...   \n",
       "\n",
       "                                           selected_text sentiment  \n",
       "0                    I`d have responded, if I were going   neutral  \n",
       "1                                               Sooo SAD  negative  \n",
       "2                                            bullying me  negative  \n",
       "3                                         leave me alone  negative  \n",
       "4                                          Sons of ****,  negative  \n",
       "...                                                  ...       ...  \n",
       "27476                                             d lost  negative  \n",
       "27477                                      , don`t force  negative  \n",
       "27478                          Yay good for both of you.  positive  \n",
       "27479                         But it was worth it  ****.  positive  \n",
       "27480  All this flirting going on - The ATG smiles. Y...   neutral  \n",
       "\n",
       "[27481 rows x 4 columns]"
      ]
     },
     "execution_count": 6,
     "metadata": {},
     "output_type": "execute_result"
    }
   ],
   "source": [
    "df = pd.read_csv(\"Tweets.csv\")\n",
    "df"
   ]
  },
  {
   "cell_type": "code",
   "execution_count": 7,
   "id": "14b962be-e5d3-4aed-9b53-523211e74d60",
   "metadata": {},
   "outputs": [],
   "source": [
    "# 2. Pré-processamento de dados\n",
    "def preprocess_text(text):\n",
    "    if isinstance(text, float):  # Verifica se o valor é float\n",
    "        return ''\n",
    "        \n",
    "    # Remove caracteres indesejados\n",
    "    text = text.replace('#', '').replace('_', ' ')\n",
    "    \n",
    "    # Remove links\n",
    "    text = ' '.join(word for word in text.split() if not word.startswith(('http', 'https')))\n",
    "    \n",
    "    # Remove menções de usuários\n",
    "    text = ' '.join(word for word in text.split() if not word.startswith('@'))\n",
    "    \n",
    "    # Converte para minúsculas\n",
    "    text = text.lower()\n",
    "    \n",
    "    # Remove stopwords\n",
    "    stop_words = set(stopwords.words('english'))\n",
    "    tokens = word_tokenize(text)\n",
    "    text = ' '.join(word for word in tokens if word not in stop_words)\n",
    "    \n",
    "    # Lemmatização\n",
    "    lemmatizer = WordNetLemmatizer()\n",
    "    tokens = word_tokenize(text)\n",
    "    text = ' '.join(lemmatizer.lemmatize(word) for word in tokens)\n",
    "    \n",
    "    return text\n",
    "\n",
    "# Realiza o pré-processamento dos tweets\n",
    "df['clean_text'] = df['text'].apply(preprocess_text)"
   ]
  },
  {
   "cell_type": "code",
   "execution_count": 8,
   "id": "a4bbe54d-42a2-4437-a339-da4b0651c9cb",
   "metadata": {},
   "outputs": [],
   "source": [
    "# Cria o vetorizador de contagem de palavras\n",
    "vectorizer = CountVectorizer()\n",
    "\n",
    "# Ajusta o vetorizador aos dados completos\n",
    "X = vectorizer.fit_transform(df['clean_text'])"
   ]
  },
  {
   "cell_type": "code",
   "execution_count": 9,
   "id": "24ed3a93-5f71-4177-b267-b4578804c45b",
   "metadata": {},
   "outputs": [],
   "source": [
    "# Extrai os recursos do texto\n",
    "y = df['sentiment']"
   ]
  },
  {
   "cell_type": "code",
   "execution_count": 11,
   "id": "e98188f2-fb52-4171-8b3b-b9172eedce99",
   "metadata": {},
   "outputs": [
    {
     "name": "stdout",
     "output_type": "stream",
     "text": [
      "Model - Logistic Regression: 88.96\n",
      "CPU times: total: 578 ms\n",
      "Wall time: 1.87 s\n"
     ]
    },
    {
     "name": "stderr",
     "output_type": "stream",
     "text": [
      "C:\\Users\\rafae\\anaconda3\\lib\\site-packages\\sklearn\\linear_model\\_logistic.py:458: ConvergenceWarning: lbfgs failed to converge (status=1):\n",
      "STOP: TOTAL NO. of ITERATIONS REACHED LIMIT.\n",
      "\n",
      "Increase the number of iterations (max_iter) or scale the data as shown in:\n",
      "    https://scikit-learn.org/stable/modules/preprocessing.html\n",
      "Please also refer to the documentation for alternative solver options:\n",
      "    https://scikit-learn.org/stable/modules/linear_model.html#logistic-regression\n",
      "  n_iter_i = _check_optimize_result(\n"
     ]
    }
   ],
   "source": [
    "%%time\n",
    "\n",
    "# Modelo de regressão logistica \n",
    "\n",
    "# Importação da biblioteca\n",
    "from sklearn.linear_model import LogisticRegression\n",
    "\n",
    "# Nome do algoritmo M.L\n",
    "model_logistic = LogisticRegression() \n",
    "\n",
    "# Treinamento do modelo\n",
    "model_logistic_fit = model_logistic.fit(X, y)\n",
    "\n",
    "# Score do modelo dados treino x\n",
    "model_logistic_score = model_logistic.score(X, y)\n",
    "\n",
    "# Score do modelo dados treino y\n",
    "print(\"Model - Logistic Regression: %.2f\" % (model_logistic_score * 100))"
   ]
  },
  {
   "cell_type": "code",
   "execution_count": 14,
   "id": "e156848e-f0d7-49b5-88ff-7bebee65573a",
   "metadata": {},
   "outputs": [
    {
     "data": {
      "text/plain": [
       "array(['neutral', 'negative', 'negative', ..., 'positive', 'positive',\n",
       "       'positive'], dtype=object)"
      ]
     },
     "execution_count": 14,
     "metadata": {},
     "output_type": "execute_result"
    }
   ],
   "source": [
    "# Previsão modelo com função predict de previsão das frases\n",
    "\n",
    "model_logistic_pred = model_logistic.predict(X)\n",
    "model_logistic_pred"
   ]
  },
  {
   "cell_type": "code",
   "execution_count": 16,
   "id": "27b021ad-b288-4540-9bc4-f3cf4bd45998",
   "metadata": {},
   "outputs": [
    {
     "name": "stdout",
     "output_type": "stream",
     "text": [
      "Acurácia - Regressão logística: 88.96\n"
     ]
    }
   ],
   "source": [
    "# Acúracia do modelo de Regressão logística\n",
    "from sklearn import metrics\n",
    "from sklearn.metrics import accuracy_score\n",
    "\n",
    "accuracy_dt = accuracy_score(y, model_logistic_pred)\n",
    "print(\"Acurácia - Regressão logística: %.2f\" % (accuracy_dt * 100))"
   ]
  },
  {
   "cell_type": "code",
   "execution_count": 17,
   "id": "488a4e86-4953-4dbf-9e8b-04f924997846",
   "metadata": {},
   "outputs": [
    {
     "name": "stdout",
     "output_type": "stream",
     "text": [
      "Modelo - Regressão logística\n",
      "\n",
      "              precision    recall  f1-score   support\n",
      "\n",
      "    negative       0.85      0.91      0.88      7275\n",
      "     neutral       0.91      0.86      0.89     11783\n",
      "    positive       0.89      0.91      0.90      8423\n",
      "\n",
      "    accuracy                           0.89     27481\n",
      "   macro avg       0.89      0.89      0.89     27481\n",
      "weighted avg       0.89      0.89      0.89     27481\n",
      "\n"
     ]
    }
   ],
   "source": [
    "# Classification report\n",
    "from sklearn.metrics import classification_report\n",
    "\n",
    "classification = classification_report(model_logistic_pred, y)\n",
    "print(\"Modelo - Regressão logística\")\n",
    "print()\n",
    "print(classification)"
   ]
  },
  {
   "cell_type": "code",
   "execution_count": 18,
   "id": "c50fa38c-8b69-4d4a-85d3-03dfd6ba4d4e",
   "metadata": {},
   "outputs": [
    {
     "data": {
      "text/plain": [
       "array([[ 6649,   461,   165],\n",
       "       [  889, 10137,   757],\n",
       "       [  243,   520,  7660]], dtype=int64)"
      ]
     },
     "execution_count": 18,
     "metadata": {},
     "output_type": "execute_result"
    }
   ],
   "source": [
    "from sklearn.metrics import confusion_matrix\n",
    "\n",
    "matrix_1 = confusion_matrix(model_logistic_pred, y)\n",
    "matrix_1"
   ]
  },
  {
   "cell_type": "code",
   "execution_count": 19,
   "id": "36e4ee55-6d4a-471b-b9da-7d5d04e3e4c5",
   "metadata": {},
   "outputs": [
    {
     "name": "stdout",
     "output_type": "stream",
     "text": [
      "Model - Naive Bayes: 82.49\n",
      "CPU times: total: 31.2 ms\n",
      "Wall time: 78.6 ms\n"
     ]
    }
   ],
   "source": [
    "%%time\n",
    "\n",
    "# Modelo machine learning - Naive bayes\n",
    "\n",
    "# Importação da biblioteca\n",
    "from sklearn.naive_bayes import MultinomialNB\n",
    "\n",
    "# Nome do algoritmo M.L\n",
    "model_naive_bayes = MultinomialNB()\n",
    "\n",
    "# Treinamento do modelo\n",
    "model_naive_bayes_fit = model_naive_bayes.fit(X, y)\n",
    "\n",
    "# Score do modelo dados treino x\n",
    "model_naive_bayes_scor = model_naive_bayes.score(X, y)\n",
    "\n",
    " # Score do modelo dados treino y\n",
    "print(\"Model - Naive Bayes: %.2f\" % (model_naive_bayes_scor * 100))"
   ]
  },
  {
   "cell_type": "code",
   "execution_count": 20,
   "id": "8473ca7f-9072-4fcd-9f21-750aed23470a",
   "metadata": {},
   "outputs": [
    {
     "data": {
      "text/plain": [
       "array(['neutral', 'negative', 'negative', ..., 'positive', 'positive',\n",
       "       'positive'], dtype='<U8')"
      ]
     },
     "execution_count": 20,
     "metadata": {},
     "output_type": "execute_result"
    }
   ],
   "source": [
    "# Previsão modelo com função predict de previsã das frases\n",
    "\n",
    "model_naive_bayes_pred = model_naive_bayes.predict(X)\n",
    "model_naive_bayes_pred"
   ]
  },
  {
   "cell_type": "code",
   "execution_count": 21,
   "id": "07088251-0ead-4127-80fd-4221eeeee99d",
   "metadata": {},
   "outputs": [
    {
     "name": "stdout",
     "output_type": "stream",
     "text": [
      "[[0.22 0.61 0.17]\n",
      " [0.98 0.02 0.  ]\n",
      " [0.54 0.29 0.17]\n",
      " ...\n",
      " [0.   0.01 0.99]\n",
      " [0.19 0.28 0.52]\n",
      " [0.01 0.43 0.55]]\n"
     ]
    }
   ],
   "source": [
    "# Previsão modelo com função log_proba de probabilidades das frases\n",
    "\n",
    "model_naive_bayes_prob = model_naive_bayes.predict_proba(X).round(2)\n",
    "print(model_naive_bayes_prob)"
   ]
  },
  {
   "cell_type": "code",
   "execution_count": 22,
   "id": "9a72ba2e-03b4-4be0-9503-fc67090674e1",
   "metadata": {},
   "outputs": [
    {
     "name": "stdout",
     "output_type": "stream",
     "text": [
      "Accuracy model Naive bayes: 82.49\n"
     ]
    }
   ],
   "source": [
    "# Acúracia do modelo de Naive bayes\n",
    "accuracy_naive_bayes = metrics.accuracy_score(y, model_naive_bayes_pred)\n",
    "print(\"Accuracy model Naive bayes: %.2f\" % (accuracy_naive_bayes * 100))"
   ]
  },
  {
   "cell_type": "code",
   "execution_count": 23,
   "id": "d29075c7-8fe6-489b-890d-cb694e9326bd",
   "metadata": {},
   "outputs": [
    {
     "name": "stdout",
     "output_type": "stream",
     "text": [
      "Modelo - Naive bayes\n",
      "\n",
      "              precision    recall  f1-score   support\n",
      "\n",
      "    negative       0.78      0.86      0.82      7025\n",
      "     neutral       0.85      0.79      0.82     11927\n",
      "    positive       0.84      0.84      0.84      8529\n",
      "\n",
      "    accuracy                           0.82     27481\n",
      "   macro avg       0.82      0.83      0.83     27481\n",
      "weighted avg       0.83      0.82      0.82     27481\n",
      "\n"
     ]
    }
   ],
   "source": [
    "# Classification report\n",
    "classification = classification_report(model_naive_bayes_pred, y)\n",
    "print(\"Modelo - Naive bayes\")\n",
    "print()\n",
    "print(classification)"
   ]
  },
  {
   "cell_type": "code",
   "execution_count": 25,
   "id": "1f3d553b-f222-4f2c-9d02-5e50a3bff3fb",
   "metadata": {},
   "outputs": [
    {
     "data": {
      "text/plain": [
       "array([[6068,  723,  234],\n",
       "       [1361, 9410, 1156],\n",
       "       [ 352,  985, 7192]], dtype=int64)"
      ]
     },
     "execution_count": 25,
     "metadata": {},
     "output_type": "execute_result"
    }
   ],
   "source": [
    "# Confusion matrix\n",
    "matrix_2 = confusion_matrix(model_naive_bayes_pred, y)\n",
    "matrix_2"
   ]
  },
  {
   "cell_type": "code",
   "execution_count": 26,
   "id": "a6575ca5-c289-4353-bf7f-1eb201ea1473",
   "metadata": {},
   "outputs": [],
   "source": [
    "import pickle\n",
    "\n",
    "# Salvar o modelo em um arquivo\n",
    "modelo_rl = 'modelo_rl.pkl'\n",
    "with open(modelo_rl, 'wb') as file:\n",
    "    pickle.dump(model_logistic, file)\n",
    "    \n",
    "    \n",
    "# Salvar o modelo em um arquivo\n",
    "modelo_naive = 'modelo_naive.pkl'\n",
    "with open(modelo_naive, 'wb') as file:\n",
    "    pickle.dump(model_naive_bayes, file)"
   ]
  },
  {
   "cell_type": "code",
   "execution_count": null,
   "id": "88b63e0a-4679-410f-97e5-acc812bf6747",
   "metadata": {},
   "outputs": [],
   "source": []
  }
 ],
 "metadata": {
  "kernelspec": {
   "display_name": "Python 3 (ipykernel)",
   "language": "python",
   "name": "python3"
  },
  "language_info": {
   "codemirror_mode": {
    "name": "ipython",
    "version": 3
   },
   "file_extension": ".py",
   "mimetype": "text/x-python",
   "name": "python",
   "nbconvert_exporter": "python",
   "pygments_lexer": "ipython3",
   "version": "3.9.13"
  }
 },
 "nbformat": 4,
 "nbformat_minor": 5
}
